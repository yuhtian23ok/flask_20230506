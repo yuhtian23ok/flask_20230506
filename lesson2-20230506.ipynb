{
 "cells": [
  {
   "cell_type": "code",
   "execution_count": 1,
   "metadata": {},
   "outputs": [
    {
     "name": "stdout",
     "output_type": "stream",
     "text": [
      "<class 'int'>\n"
     ]
    }
   ],
   "source": [
    "print(type(13))"
   ]
  },
  {
   "cell_type": "code",
   "execution_count": 1,
   "metadata": {},
   "outputs": [
    {
     "name": "stdout",
     "output_type": "stream",
     "text": [
      "已經滿18\n",
      "可以考駕照\n",
      "應用程式結束\n"
     ]
    }
   ],
   "source": [
    "age = 20\n",
    "\n",
    "if age >= 18: #雙項選擇\n",
    "    print(\"已經滿18\")\n",
    "    print(\"可以考駕照\")\n",
    "else:\n",
    "    print(\"末滿18\")\n",
    "    print(\"不可以考駕照\")\n",
    "\n",
    "print(\"應用程式結束\")"
   ]
  },
  {
   "cell_type": "code",
   "execution_count": 2,
   "metadata": {},
   "outputs": [
    {
     "name": "stdout",
     "output_type": "stream",
     "text": [
      "成績等級為:甲\n"
     ]
    }
   ],
   "source": [
    "score = int(input(\"請輸入分數\"))\n",
    "if score >= 90:\n",
    "    grade  = '優'\n",
    "elif score >= 80:\n",
    "    grade = '甲'\n",
    "elif score >= 70:\n",
    "    grade = '乙'\n",
    "elif score  >= 60:\n",
    "    grade = '丙'\n",
    "else:\n",
    "    grade = '丁'\n",
    "\n",
    "print(f\"成績等級為:{grade}\")"
   ]
  },
  {
   "cell_type": "code",
   "execution_count": 3,
   "metadata": {},
   "outputs": [
    {
     "name": "stdout",
     "output_type": "stream",
     "text": [
      "0\n",
      "1\n",
      "2\n",
      "3\n",
      "4\n"
     ]
    }
   ],
   "source": [
    "for i in range(5):\n",
    "    print(i)"
   ]
  },
  {
   "cell_type": "code",
   "execution_count": 4,
   "metadata": {},
   "outputs": [
    {
     "name": "stdout",
     "output_type": "stream",
     "text": [
      "1\n",
      "2\n",
      "3\n",
      "4\n"
     ]
    }
   ],
   "source": [
    "for i in range(1,5):\n",
    "    print(i)"
   ]
  },
  {
   "cell_type": "code",
   "execution_count": 5,
   "metadata": {},
   "outputs": [
    {
     "name": "stdout",
     "output_type": "stream",
     "text": [
      "1\n",
      "3\n",
      "5\n",
      "7\n",
      "9\n"
     ]
    }
   ],
   "source": [
    "for i in range(1,10,2):\n",
    "    print(i)"
   ]
  },
  {
   "cell_type": "code",
   "execution_count": 6,
   "metadata": {},
   "outputs": [
    {
     "name": "stdout",
     "output_type": "stream",
     "text": [
      "總共存了9月,共存了30822\n"
     ]
    }
   ],
   "source": [
    "#小明想要存錢買一輛機車,機車每輛30000元，他將每月存的錢輸入，當存款足夠買機車時，就顯示提示訊息告知\n",
    "\n",
    "deposit = 0\n",
    "num = 0\n",
    "while(deposit < 30000):\n",
    "    num += 1\n",
    "    input_value = int(input(f\"請輸入第{num}月份的存款:\"))\n",
    "    deposit += input_value\n",
    "\n",
    "print(f\"總共存了{num}月,共存了{deposit}\")"
   ]
  },
  {
   "cell_type": "code",
   "execution_count": 7,
   "metadata": {},
   "outputs": [
    {
     "name": "stdout",
     "output_type": "stream",
     "text": [
      "總共存了8月,共存了39669\n"
     ]
    }
   ],
   "source": [
    "#小明想要存錢買一輛機車,機車每輛30000元，他將每月存的錢輸入，當存款足夠買機車時，就顯示提示訊息告知\n",
    "\n",
    "deposit = 0\n",
    "num = 0\n",
    "while(True):\n",
    "    num += 1\n",
    "    input_value = int(input(f\"請輸入第{num}月份的存款:\"))\n",
    "    deposit += input_value\n",
    "    if(deposit >= 30000):\n",
    "        break\n",
    "\n",
    "print(f\"總共存了{num}月,共存了{deposit}\")"
   ]
  },
  {
   "cell_type": "code",
   "execution_count": 8,
   "metadata": {},
   "outputs": [
    {
     "name": "stdout",
     "output_type": "stream",
     "text": [
      "所有輸入的正偶數加總是:38\n"
     ]
    }
   ],
   "source": [
    "#請設計一個程式，讓使用者輸入數值，只有加總正偶數值，不加總正奇數值，如果輸入負數，結束程式。\n",
    "num = 0\n",
    "sum = 0\n",
    "while(True):\n",
    "    num += 1\n",
    "    input_num = int(input(f\"請輸入第{num}個數值:\"))\n",
    "    if input_num < 0:\n",
    "        break\n",
    "    elif input_num % 2 == 1:\n",
    "        continue\n",
    "    else:\n",
    "        sum += input_num\n",
    "        \n",
    "print(f\"所有輸入的正偶數加總是:{sum}\")"
   ]
  },
  {
   "cell_type": "code",
   "execution_count": 9,
   "metadata": {},
   "outputs": [
    {
     "name": "stdout",
     "output_type": "stream",
     "text": [
      "34的因數是:\n",
      "1\n",
      "2\n",
      "17\n",
      "34\n",
      "===============結束\n"
     ]
    }
   ],
   "source": [
    "num = int(input(\"請輸入一個數值,並求其因數:\"))\n",
    "print(f\"{num}的因數是:\")\n",
    "for i in range(1,num+1):\n",
    "    if num % i == 0:\n",
    "        print(i)\n",
    "print(\"===============結束\")"
   ]
  },
  {
   "cell_type": "code",
   "execution_count": null,
   "metadata": {},
   "outputs": [],
   "source": []
  },
  {
   "cell_type": "code",
   "execution_count": null,
   "metadata": {},
   "outputs": [],
   "source": []
  },
  {
   "cell_type": "code",
   "execution_count": null,
   "metadata": {},
   "outputs": [],
   "source": []
  },
  {
   "cell_type": "code",
   "execution_count": null,
   "metadata": {},
   "outputs": [],
   "source": []
  },
  {
   "cell_type": "code",
   "execution_count": null,
   "metadata": {},
   "outputs": [],
   "source": []
  }
 ],
 "metadata": {
  "kernelspec": {
   "display_name": "Python 3",
   "language": "python",
   "name": "python3"
  },
  "language_info": {
   "codemirror_mode": {
    "name": "ipython",
    "version": 3
   },
   "file_extension": ".py",
   "mimetype": "text/x-python",
   "name": "python",
   "nbconvert_exporter": "python",
   "pygments_lexer": "ipython3",
   "version": "3.9.16"
  },
  "orig_nbformat": 4
 },
 "nbformat": 4,
 "nbformat_minor": 2
}

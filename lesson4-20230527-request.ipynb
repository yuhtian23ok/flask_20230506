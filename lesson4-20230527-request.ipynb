{
 "cells": [
  {
   "cell_type": "code",
   "execution_count": 4,
   "metadata": {},
   "outputs": [
    {
     "name": "stdout",
     "output_type": "stream",
     "text": [
      "連線成功\n",
      "<class 'list'>\n"
     ]
    }
   ],
   "source": [
    "import requests\n",
    "url = 'https://tcgbusfs.blob.core.windows.net/dotapp/youbike/v2/youbike_immediate.json'\n",
    "response = requests.request('GET',url)\n",
    "if response.status_code == 200:\n",
    "    print(\"連線成功\")\n",
    "    all_data = response.json()\n",
    "    print(type(all_data))\n",
    "else:\n",
    "    print(f\"連線失敗:{response.status_code}\")"
   ]
  },
  {
   "cell_type": "code",
   "execution_count": 7,
   "metadata": {},
   "outputs": [
    {
     "data": {
      "text/html": [
       "<div>\n",
       "<style scoped>\n",
       "    .dataframe tbody tr th:only-of-type {\n",
       "        vertical-align: middle;\n",
       "    }\n",
       "\n",
       "    .dataframe tbody tr th {\n",
       "        vertical-align: top;\n",
       "    }\n",
       "\n",
       "    .dataframe thead th {\n",
       "        text-align: right;\n",
       "    }\n",
       "</style>\n",
       "<table border=\"1\" class=\"dataframe\">\n",
       "  <thead>\n",
       "    <tr style=\"text-align: right;\">\n",
       "      <th></th>\n",
       "      <th>sna</th>\n",
       "      <th>tot</th>\n",
       "      <th>sbi</th>\n",
       "      <th>sarea</th>\n",
       "      <th>mday</th>\n",
       "      <th>ar</th>\n",
       "      <th>bemp</th>\n",
       "      <th>act</th>\n",
       "    </tr>\n",
       "  </thead>\n",
       "  <tbody>\n",
       "    <tr>\n",
       "      <th>0</th>\n",
       "      <td>YouBike2.0_捷運科技大樓站</td>\n",
       "      <td>28</td>\n",
       "      <td>2</td>\n",
       "      <td>大安區</td>\n",
       "      <td>2023-05-27 11:16:17</td>\n",
       "      <td>復興南路二段235號前</td>\n",
       "      <td>23</td>\n",
       "      <td>1</td>\n",
       "    </tr>\n",
       "    <tr>\n",
       "      <th>1</th>\n",
       "      <td>YouBike2.0_復興南路二段273號前</td>\n",
       "      <td>21</td>\n",
       "      <td>8</td>\n",
       "      <td>大安區</td>\n",
       "      <td>2023-05-27 11:16:17</td>\n",
       "      <td>復興南路二段273號西側</td>\n",
       "      <td>13</td>\n",
       "      <td>1</td>\n",
       "    </tr>\n",
       "    <tr>\n",
       "      <th>2</th>\n",
       "      <td>YouBike2.0_國北教大實小東側門</td>\n",
       "      <td>16</td>\n",
       "      <td>2</td>\n",
       "      <td>大安區</td>\n",
       "      <td>2023-05-27 11:09:04</td>\n",
       "      <td>和平東路二段96巷7號</td>\n",
       "      <td>13</td>\n",
       "      <td>1</td>\n",
       "    </tr>\n",
       "    <tr>\n",
       "      <th>3</th>\n",
       "      <td>YouBike2.0_和平公園東側</td>\n",
       "      <td>11</td>\n",
       "      <td>2</td>\n",
       "      <td>大安區</td>\n",
       "      <td>2023-05-27 11:01:16</td>\n",
       "      <td>和平東路二段118巷33號</td>\n",
       "      <td>9</td>\n",
       "      <td>1</td>\n",
       "    </tr>\n",
       "    <tr>\n",
       "      <th>4</th>\n",
       "      <td>YouBike2.0_辛亥復興路口西北側</td>\n",
       "      <td>16</td>\n",
       "      <td>12</td>\n",
       "      <td>大安區</td>\n",
       "      <td>2023-05-27 11:14:14</td>\n",
       "      <td>復興南路二段368號</td>\n",
       "      <td>4</td>\n",
       "      <td>1</td>\n",
       "    </tr>\n",
       "  </tbody>\n",
       "</table>\n",
       "</div>"
      ],
      "text/plain": [
       "                      sna  tot  sbi sarea                 mday             ar   \n",
       "0      YouBike2.0_捷運科技大樓站   28    2   大安區  2023-05-27 11:16:17    復興南路二段235號前  \\\n",
       "1  YouBike2.0_復興南路二段273號前   21    8   大安區  2023-05-27 11:16:17   復興南路二段273號西側   \n",
       "2    YouBike2.0_國北教大實小東側門   16    2   大安區  2023-05-27 11:09:04    和平東路二段96巷7號   \n",
       "3       YouBike2.0_和平公園東側   11    2   大安區  2023-05-27 11:01:16  和平東路二段118巷33號   \n",
       "4    YouBike2.0_辛亥復興路口西北側   16   12   大安區  2023-05-27 11:14:14     復興南路二段368號   \n",
       "\n",
       "   bemp act  \n",
       "0    23   1  \n",
       "1    13   1  \n",
       "2    13   1  \n",
       "3     9   1  \n",
       "4     4   1  "
      ]
     },
     "execution_count": 7,
     "metadata": {},
     "output_type": "execute_result"
    }
   ],
   "source": [
    "import pandas as pd\n",
    "\n",
    "dataFrame = pd.DataFrame(data=all_data,columns=['sna','tot','sbi','sarea','mday','ar','bemp','act'])\n",
    "dataFrame.head()"
   ]
  }
 ],
 "metadata": {
  "kernelspec": {
   "display_name": "Python 3",
   "language": "python",
   "name": "python3"
  },
  "language_info": {
   "codemirror_mode": {
    "name": "ipython",
    "version": 3
   },
   "file_extension": ".py",
   "mimetype": "text/x-python",
   "name": "python",
   "nbconvert_exporter": "python",
   "pygments_lexer": "ipython3",
   "version": "3.9.16"
  },
  "orig_nbformat": 4
 },
 "nbformat": 4,
 "nbformat_minor": 2
}

{
 "cells": [
  {
   "cell_type": "code",
   "execution_count": 1,
   "metadata": {},
   "outputs": [
    {
     "name": "stdout",
     "output_type": "stream",
     "text": [
      "Hello~\n"
     ]
    }
   ],
   "source": [
    "print(\"Hello~\")"
   ]
  },
  {
   "cell_type": "code",
   "execution_count": 2,
   "metadata": {},
   "outputs": [
    {
     "name": "stdout",
     "output_type": "stream",
     "text": [
      "123 我是int\n",
      "456.123 我是float\n",
      "字串 這是str\n",
      "True 我是bool值\n"
     ]
    }
   ],
   "source": [
    "# 這是引數值\n",
    "print(123,\"我是int\")\n",
    "print(456.123, '我是float')\n",
    "print(\"字串\",\"這是str\")\n",
    "print(True, \"我是bool值\")"
   ]
  },
  {
   "cell_type": "code",
   "execution_count": 1,
   "metadata": {},
   "outputs": [
    {
     "data": {
      "text/plain": [
       "10"
      ]
     },
     "execution_count": 1,
     "metadata": {},
     "output_type": "execute_result"
    }
   ],
   "source": [
    "2*(1+2)**2-2**2*2"
   ]
  },
  {
   "cell_type": "code",
   "execution_count": 3,
   "metadata": {},
   "outputs": [
    {
     "data": {
      "text/plain": [
       "150"
      ]
     },
     "execution_count": 3,
     "metadata": {},
     "output_type": "execute_result"
    }
   ],
   "source": [
    "n = 5\n",
    "n += 10\n",
    "n *= 10\n",
    "n"
   ]
  },
  {
   "cell_type": "code",
   "execution_count": 4,
   "metadata": {},
   "outputs": [
    {
     "name": "stdout",
     "output_type": "stream",
     "text": [
      "n+m=15\n",
      "5+10=15\n"
     ]
    }
   ],
   "source": [
    "n = 5\n",
    "m = 10\n",
    "print(f\"n+m={n+m}\")\n",
    "print(f\"{n}+{m}={n+m}\")"
   ]
  },
  {
   "cell_type": "code",
   "execution_count": 5,
   "metadata": {},
   "outputs": [
    {
     "name": "stdout",
     "output_type": "stream",
     "text": [
      "579\n"
     ]
    }
   ],
   "source": [
    "n = 123\n",
    "m = 456\n",
    "result = input(f\"請輸入 {n} + {m} 的數值:\")\n",
    "print(result)"
   ]
  },
  {
   "cell_type": "code",
   "execution_count": 6,
   "metadata": {},
   "outputs": [
    {
     "name": "stdout",
     "output_type": "stream",
     "text": [
      "總合為 = 109.0\n"
     ]
    }
   ],
   "source": [
    "result = 0\n",
    "n = float(input(f\"請輸入第1個數:\"))\n",
    "result += n\n",
    "n = float(input(f\"請輸入第2個數:\"))\n",
    "result += n\n",
    "n = float(input(f\"請輸入第3個數:\"))\n",
    "result += n\n",
    "print(f\"總合為 = {result}\")"
   ]
  },
  {
   "cell_type": "code",
   "execution_count": 7,
   "metadata": {},
   "outputs": [
    {
     "name": "stdout",
     "output_type": "stream",
     "text": [
      "梯形的面積 = 15.0\n"
     ]
    }
   ],
   "source": [
    "result = 0\n",
    "n = float(input(f\"請輸入梯形的上底(公分):\"))\n",
    "result += n\n",
    "n = float(input(f\"請輸入梯形的下底(公分):\"))\n",
    "result += n\n",
    "n = float(input(f\"請輸入梯形的高(公分):\"))\n",
    "result *= n/2\n",
    "print(f\"梯形的面積 = {result}\")"
   ]
  },
  {
   "cell_type": "code",
   "execution_count": 10,
   "metadata": {},
   "outputs": [
    {
     "name": "stdout",
     "output_type": "stream",
     "text": [
      "直角三角形的角度為:36.87\n"
     ]
    }
   ],
   "source": [
    "import math \n",
    "m = float(input(f\"請輸入對邊:\"))\n",
    "n = float(input(f\"請輸入斜邊:\"))\n",
    "angle = math.degrees(math.asin(m/n))\n",
    "print(f\"直角三角形的角度為:{round(angle,2)}\")"
   ]
  }
 ],
 "metadata": {
  "kernelspec": {
   "display_name": "Python 3",
   "language": "python",
   "name": "python3"
  },
  "language_info": {
   "codemirror_mode": {
    "name": "ipython",
    "version": 3
   },
   "file_extension": ".py",
   "mimetype": "text/x-python",
   "name": "python",
   "nbconvert_exporter": "python",
   "pygments_lexer": "ipython3",
   "version": "3.10.4"
  },
  "orig_nbformat": 4
 },
 "nbformat": 4,
 "nbformat_minor": 2
}

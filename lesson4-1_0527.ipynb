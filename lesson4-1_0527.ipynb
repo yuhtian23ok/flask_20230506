{
 "cells": [
  {
   "cell_type": "code",
   "execution_count": 1,
   "metadata": {},
   "outputs": [
    {
     "name": "stdout",
     "output_type": "stream",
     "text": [
      "連線成功\n",
      "<class 'list'>\n",
      "                           sna  tot  sbi   sarea                 mday   \n",
      "0           YouBike2.0_捷運科技大樓站   28    1     大安區  2023-05-27 13:53:15  \\\n",
      "1       YouBike2.0_復興南路二段273號前   21    0     大安區  2023-05-27 13:53:04   \n",
      "2         YouBike2.0_國北教大實小東側門   16    0     大安區  2023-05-27 13:46:04   \n",
      "3            YouBike2.0_和平公園東側   11    2     大安區  2023-05-27 13:50:20   \n",
      "4         YouBike2.0_辛亥復興路口西北側   16    0     大安區  2023-05-27 13:55:11   \n",
      "...                        ...  ...  ...     ...                  ...   \n",
      "1267          YouBike2.0_臺大一號館   19    1    臺大專區  2023-05-27 13:49:04   \n",
      "1268       YouBike2.0_臺大小小福西南側   10    0    臺大專區  2023-05-27 13:55:12   \n",
      "1270       YouBike2.0_臺大四號館東北側   10    1    臺大專區  2023-05-27 13:52:15   \n",
      "1273      YouBike2.0_臺大電機二館東南側   14    0    臺大專區  2023-05-27 13:50:09   \n",
      "1279  YouBike2.0_臺大明達館北側(員工宿舍)   18    2  臺大公館校區  2023-05-27 13:39:14   \n",
      "\n",
      "                  ar  bemp act  \n",
      "0        復興南路二段235號前    24   1  \n",
      "1       復興南路二段273號西側    21   1  \n",
      "2        和平東路二段96巷7號    15   1  \n",
      "3      和平東路二段118巷33號     9   1  \n",
      "4         復興南路二段368號    16   1  \n",
      "...              ...   ...  ..  \n",
      "1267  臺大植物魚類標本館一號館北側    18   1  \n",
      "1268        臺大進修教育大樓    10   1  \n",
      "1270     臺大園藝暨景觀學系北側     9   1  \n",
      "1273        臺大電機二館南側    14   1  \n",
      "1279        明達館北側前空地    15   1  \n",
      "\n",
      "[516 rows x 8 columns]\n"
     ]
    }
   ],
   "source": [
    "import requests\n",
    "import pandas as pd\n",
    "url = 'https://tcgbusfs.blob.core.windows.net/dotapp/youbike/v2/youbike_immediate.json'\n",
    "response = requests.request('GET',url)\n",
    "if response.status_code == 200:\n",
    "    print(\"連線成功\")\n",
    "    all_data = response.json()\n",
    "    print(type(all_data))\n",
    "else:\n",
    "    print(f\"連線失敗:{response.status_code}\")\n",
    "\n",
    "\n",
    "\n",
    "dataFrame = pd.DataFrame(data=all_data,columns=['sna','tot','sbi','sarea','mday','ar','bemp','act'])\n",
    "mask = dataFrame['sbi'] <= 3\n",
    "print(dataFrame[mask])"
   ]
  }
 ],
 "metadata": {
  "kernelspec": {
   "display_name": "Python 3",
   "language": "python",
   "name": "python3"
  },
  "language_info": {
   "codemirror_mode": {
    "name": "ipython",
    "version": 3
   },
   "file_extension": ".py",
   "mimetype": "text/x-python",
   "name": "python",
   "nbconvert_exporter": "python",
   "pygments_lexer": "ipython3",
   "version": "3.9.16"
  },
  "orig_nbformat": 4
 },
 "nbformat": 4,
 "nbformat_minor": 2
}
